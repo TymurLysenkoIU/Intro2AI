{
 "cells": [
  {
   "cell_type": "markdown",
   "source": [
    "Imports"
   ],
   "metadata": {
    "collapsed": false,
    "pycharm": {
     "name": "#%% md\n"
    }
   }
  },
  {
   "cell_type": "code",
   "execution_count": 7,
   "outputs": [],
   "source": [
    "from typing import Tuple\n",
    "import math\n",
    "\n",
    "import numpy as np\n",
    "from numpy.random import randint, default_rng\n",
    "\n",
    "from skimage.draw import polygon, circle_perimeter_aa, circle, circle_perimeter\n",
    "\n",
    "import matplotlib.pyplot as plt\n",
    "%matplotlib inline\n",
    "\n",
    "import conf"
   ],
   "metadata": {
    "collapsed": false,
    "pycharm": {
     "name": "#%%\n"
    }
   }
  },
  {
   "cell_type": "markdown",
   "metadata": {
    "collapsed": true,
    "pycharm": {
     "name": "#%% md\n"
    }
   },
   "source": [
    "# Common definitions"
   ]
  },
  {
   "cell_type": "code",
   "execution_count": 8,
   "outputs": [],
   "source": [
    "plt.rcParams[\"figure.figsize\"] = (7, 7)\n",
    "plt.rcParams['figure.dpi'] = 96\n",
    "\n",
    "rng = default_rng()"
   ],
   "metadata": {
    "collapsed": false,
    "pycharm": {
     "name": "#%%\n"
    }
   }
  },
  {
   "cell_type": "markdown",
   "source": [
    "## Helper functions"
   ],
   "metadata": {
    "collapsed": false,
    "pycharm": {
     "name": "#%% md\n"
    }
   }
  },
  {
   "cell_type": "code",
   "execution_count": 9,
   "outputs": [],
   "source": [
    "def get_random_num_polygon_vertices():\n",
    "  return randint(\n",
    "    conf.MIN_NUM_POLYGON_VERTICES,\n",
    "    conf.MAX_NUM_POLYGON_VERTICES\n",
    "  )\n",
    "\n",
    "def get_random_circumscribed_circle_size():\n",
    "  return randint(\n",
    "    conf.MIN_CIRCUMSCRIBED_CIRCLE_SIZE,\n",
    "    conf.MAX_CIRCUMSCRIBED_CIRCLE_SIZE\n",
    "  )"
   ],
   "metadata": {
    "collapsed": false,
    "pycharm": {
     "name": "#%%\n"
    }
   }
  },
  {
   "cell_type": "markdown",
   "source": [
    "Define the necessary data structures"
   ],
   "metadata": {
    "collapsed": false
   }
  },
  {
   "cell_type": "code",
   "execution_count": 10,
   "outputs": [],
   "source": [
    "class ImagePolygon:\n",
    "  \"\"\"Contains the information to represent polygon on an image.\n",
    "  Is used as gene of a chromosome.\n",
    "\n",
    "  Attributes:\n",
    "    points  Numpy array of points of an underlying polygon.\n",
    "  \"\"\"\n",
    "\n",
    "  points: np.ndarray\n",
    "\n",
    "  def __init__(self,\n",
    "    circle_center_position: np.ndarray,\n",
    "    circle_radius: int = get_random_circumscribed_circle_size(),\n",
    "    num_points: int = get_random_num_polygon_vertices(),\n",
    "  ):\n",
    "    \"\"\" Initializes a polygon for the given parameters.\n",
    "    All vertices of the polygon lie on the circumscribed circle.\n",
    "\n",
    "    :param circle_center_position: A numpy array containing a pair of coordinates\n",
    "      which correspond to the center of the circumscribed circle.\n",
    "    :param circle_radius: Radius of the circumscribed circle.\n",
    "    :param num_points: Number of polygon vertices.\n",
    "    \"\"\"\n",
    "    points = []\n",
    "\n",
    "    for _ in range(num_points):\n",
    "      angle = rng.uniform(0, 2 * np.pi)\n",
    "      base_x = circle_radius * math.sin(angle)\n",
    "      base_y = circle_radius * math.cos(angle)\n",
    "      x, y = circle_center_position + (base_x, base_y)\n",
    "      points.append((x, y, angle))\n",
    "\n",
    "    points.sort(key = lambda x: x[2])\n",
    "    points = [(x[0], x[1]) for x in points]\n",
    "\n",
    "    self.points = np.array(points)\n",
    "\n",
    "  def __repr__(self):\n",
    "    return self.points\n",
    "\n",
    "  def __str__(self):\n",
    "    return str(self.points)\n",
    "\n",
    "class Chromosome:\n",
    "  \"\"\"Chromosome for the genetic algorithm. Can be represented as an image.\n",
    "\n",
    "  Consists of the polygons that constitute the underlying image.\n",
    "  \"\"\"\n",
    "\n",
    "  def __init__(self):\n",
    "    pass"
   ],
   "metadata": {
    "collapsed": false,
    "pycharm": {
     "name": "#%%\n"
    }
   }
  },
  {
   "cell_type": "code",
   "execution_count": 18,
   "outputs": [
    {
     "data": {
      "text/plain": "<matplotlib.image.AxesImage at 0x7f3c26149c70>"
     },
     "execution_count": 18,
     "metadata": {},
     "output_type": "execute_result"
    },
    {
     "data": {
      "text/plain": "<Figure size 672x672 with 1 Axes>",
      "image/png": "[encoded data removed]"
     },
     "metadata": {
      "needs_background": "light"
     },
     "output_type": "display_data"
    }
   ],
   "source": [
    "# Trash\n",
    "\n",
    "p = ImagePolygon(np.array([255, 255]), 10)\n",
    "\n",
    "img = np.zeros((512, 512, 3))\n",
    "\n",
    "pX, pY = polygon(p.points[:,0], p.points[:,1])\n",
    "eX, eY, aa = circle_perimeter_aa(255, 255, 100)\n",
    "\n",
    "img[eX, eY] = np.outer(aa, [255, 255, 255])\n",
    "img[pX, pY] = [255, 206, 0]\n",
    "\n",
    "plt.imshow(img.clip(0, 255).astype('uint8'))"
   ],
   "metadata": {
    "collapsed": false,
    "pycharm": {
     "name": "#%%\n"
    }
   }
  },
  {
   "cell_type": "code",
   "execution_count": 12,
   "outputs": [],
   "source": [
    "# img = np.zeros((512, 512, 3))\n",
    "#\n",
    "# a = np.array([\n",
    "#   [264.86019496, 256.66629991],\n",
    "#   [264.87614142, 256.56902221],\n",
    "#   [247.8580518,  248.00053031],\n",
    "# ])\n",
    "#\n",
    "# pX, pY = polygon(a[:,0], a[:,1])\n",
    "#\n",
    "# # cX, cY = circle_perimeter(264.86019496, 256.66629991, 5)\n",
    "# cX, cY = circle_perimeter(264, 256, 5)\n",
    "# img[cX, cY] = [255, 0, 0]\n",
    "#\n",
    "# # cX, cY = circle_perimeter(264.87614142, 256.56902221, 5)\n",
    "# cX, cY = circle_perimeter(264, 256, 5)\n",
    "# img[cX, cY] = [255, 0, 0]\n",
    "#\n",
    "# # cX, cY = circle_perimeter(247.8580518,  248.00053031, 5)\n",
    "# cX, cY = circle_perimeter(247,  248, 5)\n",
    "# img[cX, cY] = [255, 0, 0]\n",
    "#\n",
    "# print(pX)\n",
    "# print(pY)\n",
    "#\n",
    "# plt.imshow(img.clip(0, 255).astype('uint8'))"
   ],
   "metadata": {
    "collapsed": false,
    "pycharm": {
     "name": "#%%\n"
    }
   }
  },
  {
   "cell_type": "markdown",
   "source": [
    "# TODOs\n",
    "\n",
    "- [ ] generate the **initial population**\n",
    "- [ ] implement the **main loop** for the GA\n",
    "- [ ] implement the **fitness function**\n",
    "- [ ] implement the **mutation** method for a `Chromosome`\n",
    "  - add new polygon\n",
    "  - remove an existing polygon\n",
    "  - change an existing polygon\n",
    "    - reshape\n",
    "    - change color\n",
    "  - move an existing polygon\n",
    "- [ ] implement the **crossover** method for a `Chromosome`\n",
    "- [ ] implement the **selection** method for a population\n"
   ],
   "metadata": {
    "collapsed": false,
    "pycharm": {
     "name": "#%% md\n"
    }
   }
  }
 ],
 "metadata": {
  "kernelspec": {
   "display_name": "Python 3",
   "language": "python",
   "name": "python3"
  },
  "language_info": {
   "codemirror_mode": {
    "name": "ipython",
    "version": 2
   },
   "file_extension": ".py",
   "mimetype": "text/x-python",
   "name": "python",
   "nbconvert_exporter": "python",
   "pygments_lexer": "ipython2",
   "version": "2.7.6"
  }
 },
 "nbformat": 4,
 "nbformat_minor": 0
}